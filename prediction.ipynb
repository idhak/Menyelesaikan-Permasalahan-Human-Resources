{
  "nbformat": 4,
  "nbformat_minor": 0,
  "metadata": {
    "colab": {
      "provenance": []
    },
    "kernelspec": {
      "name": "python3",
      "display_name": "Python 3"
    },
    "language_info": {
      "name": "python"
    }
  },
  "cells": [
    {
      "cell_type": "code",
      "execution_count": 10,
      "metadata": {
        "id": "jXdoy1Znc2bt"
      },
      "outputs": [],
      "source": [
        "import pickle\n",
        "import pandas as pd\n",
        "import joblib"
      ]
    },
    {
      "cell_type": "code",
      "source": [
        "input_data = {\n",
        "    'Age': 35,\n",
        "    'DailyRate': 800,\n",
        "    'DistanceFromHome': 5,\n",
        "    'Education': 3,\n",
        "    'EnvironmentSatisfaction': 4,\n",
        "    'HourlyRate': 60,\n",
        "    'JobInvolvement': 3,\n",
        "    'JobLevel': 2,\n",
        "    'JobSatisfaction': 4,\n",
        "    'MonthlyIncome': 6000,\n",
        "    'MonthlyRate': 12000,\n",
        "    'NumCompaniesWorked': 1,\n",
        "    'PercentSalaryHike': 14,\n",
        "    'PerformanceRating': 3,\n",
        "    'RelationshipSatisfaction': 3,\n",
        "    'StockOptionLevel': 1,\n",
        "    'TotalWorkingYears': 10,\n",
        "    'TrainingTimesLastYear': 3,\n",
        "    'WorkLifeBalance': 2,\n",
        "    'YearsAtCompany': 5,\n",
        "    'YearsInCurrentRole': 3,\n",
        "    'YearsSinceLastPromotion': 1,\n",
        "    'YearsWithCurrManager': 2,\n",
        "    # One-hot encoded fields (sample values)\n",
        "    'BusinessTravel_Non-Travel': False,\n",
        "    'BusinessTravel_Travel_Frequently': True,\n",
        "    'BusinessTravel_Travel_Rarely': False,\n",
        "    'Department_Human Resources': False,\n",
        "    'Department_Research & Development': True,\n",
        "    'Department_Sales': False,\n",
        "    'EducationField_Human Resources': False,\n",
        "    'EducationField_Life Sciences': True,\n",
        "    'EducationField_Marketing': False,\n",
        "    'EducationField_Medical': False,\n",
        "    'EducationField_Other': False,\n",
        "    'EducationField_Technical Degree': False,\n",
        "    'Gender_Female': False,\n",
        "    'Gender_Male': True,\n",
        "    'JobRole_Healthcare Representative': False,\n",
        "    'JobRole_Human Resources': False,\n",
        "    'JobRole_Laboratory Technician': False,\n",
        "    'JobRole_Manager': True,\n",
        "    'JobRole_Manufacturing Director': False,\n",
        "    'JobRole_Research Director': False,\n",
        "    'JobRole_Research Scientist': False,\n",
        "    'JobRole_Sales Executive': False,\n",
        "    'JobRole_Sales Representative': False,\n",
        "    'MaritalStatus_Divorced': False,\n",
        "    'MaritalStatus_Married': True,\n",
        "    'MaritalStatus_Single': False,\n",
        "    'OverTime_No': False,\n",
        "    'OverTime_Yes': True,\n",
        "}\n"
      ],
      "metadata": {
        "id": "z_jZ6rM8CXyS"
      },
      "execution_count": 7,
      "outputs": []
    },
    {
      "cell_type": "code",
      "source": [
        "# Convert to DataFrame\n",
        "input_df = pd.DataFrame([input_data])"
      ],
      "metadata": {
        "id": "Qo29obz8Ch2E"
      },
      "execution_count": 8,
      "outputs": []
    },
    {
      "cell_type": "code",
      "source": [
        "# Load Model\n",
        "model_filename = 'Random Forest_model.pkl'\n",
        "model = joblib.load(model_filename)"
      ],
      "metadata": {
        "id": "4FnZHp1hConR"
      },
      "execution_count": 12,
      "outputs": []
    },
    {
      "cell_type": "code",
      "source": [
        "# Predict and Output\n",
        "prediction = model.predict(input_df)[0]\n",
        "probability = model.predict_proba(input_df)[0]\n",
        "\n",
        "print(f\"Prediksi: {prediction}\")\n",
        "print(\"Probabilitas per kelas:\")\n",
        "for i, prob in enumerate(probability):\n",
        "    print(f\"  Kelas {i}: {prob:.4f}\")"
      ],
      "metadata": {
        "colab": {
          "base_uri": "https://localhost:8080/"
        },
        "id": "RduiZh88ChzU",
        "outputId": "5e12b8a0-e72f-4fbc-8f86-fa5553e21677"
      },
      "execution_count": 13,
      "outputs": [
        {
          "output_type": "stream",
          "name": "stdout",
          "text": [
            "Prediksi: 0\n",
            "Probabilitas per kelas:\n",
            "  Kelas 0: 0.8200\n",
            "  Kelas 1: 0.1800\n"
          ]
        }
      ]
    },
    {
      "cell_type": "markdown",
      "source": [
        "Kelas 0 artinya karyawan yang tidak mengundurkan diri, sedangkan kelas 1 adalah karyawan yang mengundurkan diri.\n",
        "\n",
        "Berdasarkan output, prediksi dari data di atas adalah 0 atau karyawan tidak mengundurkan diri dengan probabilitas 0.82."
      ],
      "metadata": {
        "id": "wN4utwn8DZb8"
      }
    }
  ]
}